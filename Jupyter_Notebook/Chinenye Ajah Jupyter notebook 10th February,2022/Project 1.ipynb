{
 "cells": [
  {
   "cell_type": "code",
   "execution_count": 5,
   "metadata": {},
   "outputs": [
    {
     "data": {
      "text/plain": [
       "31.41592653589793"
      ]
     },
     "execution_count": 5,
     "metadata": {},
     "output_type": "execute_result"
    }
   ],
   "source": [
    "def C(r):\n",
    "    import math\n",
    "    return 2*math.pi*r\n",
    "C(5)"
   ]
  },
  {
   "cell_type": "code",
   "execution_count": 14,
   "metadata": {},
   "outputs": [
    {
     "name": "stdout",
     "output_type": "stream",
     "text": [
      "Enter value of r: 9\n"
     ]
    }
   ],
   "source": [
    "def C(r):\n",
    "    import math\n",
    "    return 2*math.pi*r\n",
    "r = int(input('Enter value of r: '))\n",
    "C(r)\n"
   ]
  },
  {
   "cell_type": "code",
   "execution_count": 12,
   "metadata": {},
   "outputs": [
    {
     "name": "stdout",
     "output_type": "stream",
     "text": [
      "Please enter the radius 5\n"
     ]
    },
    {
     "data": {
      "text/plain": [
       "31.419999999999998"
      ]
     },
     "execution_count": 12,
     "metadata": {},
     "output_type": "execute_result"
    }
   ],
   "source": [
    "def Circ( ):\n",
    "    r = int(input('Please enter the radius '))\n",
    "    return 2*3.142*r\n",
    "Circ( )"
   ]
  },
  {
   "cell_type": "code",
   "execution_count": 13,
   "metadata": {},
   "outputs": [
    {
     "name": "stdout",
     "output_type": "stream",
     "text": [
      "Please enter the radius 6\n"
     ]
    },
    {
     "data": {
      "text/plain": [
       "37.69911184307752"
      ]
     },
     "execution_count": 13,
     "metadata": {},
     "output_type": "execute_result"
    }
   ],
   "source": [
    "def Circ( ):\n",
    "    r = int(input('Please enter the radius '))\n",
    "    import math\n",
    "    return 2*math.pi*r\n",
    "Circ( )"
   ]
  },
  {
   "cell_type": "code",
   "execution_count": 1,
   "metadata": {},
   "outputs": [
    {
     "name": "stdout",
     "output_type": "stream",
     "text": [
      "Please enter the first value for a: 6\n",
      "Please enter the second value for b: 8\n",
      "Please enter the third value for c: 3\n",
      "The roots are (-8+8.485281374238571j) and (-8-8.485281374238571j)\n"
     ]
    }
   ],
   "source": [
    "#Project 1\n",
    "import cmath\n",
    "def quad( ):\n",
    "    a = int(input(\"Please enter the first value for a: \" ))\n",
    "    b = int(input(\"Please enter the second value for b: \" ))\n",
    "    c = int(input(\"Please enter the third value for c: \"))\n",
    "    d = cmath.sqrt(b**2 - 4*a*c)\n",
    "    x_1 = -b + d/2*a\n",
    "    x_2 = -b - d/2*a\n",
    "    print(\"The roots are\", x_1, \"and\", x_2)\n",
    "quad( )"
   ]
  },
  {
   "cell_type": "code",
   "execution_count": 34,
   "metadata": {},
   "outputs": [
    {
     "name": "stdout",
     "output_type": "stream",
     "text": [
      "Please enter your name:  Karina\n",
      "Students score is 72\n"
     ]
    }
   ],
   "source": [
    "#Project 3\n",
    "students = {\"Ali\": 24, \"Ben\":35, \"Cara\": 80, \"Dave\": 38, \"Erica\": 85, \"Fred\": 46, \"George\": 94, \"Holly\": 68, \"Indie\": 79, \"Jalingo\": 78, \"Karina\": 72, \"Lam\": 95, \"Mandy\": 75, \"Neo\": 83, \"Octavius\": 69}\n",
    "def score( ):\n",
    "    name = input(\"Please enter your name:  \")\n",
    "    if name in students:\n",
    "        print(\"Students score is\", students[name])\n",
    "    else:\n",
    "        print(\"Not available\")\n",
    "score()"
   ]
  },
  {
   "cell_type": "code",
   "execution_count": 30,
   "metadata": {},
   "outputs": [
    {
     "name": "stdout",
     "output_type": "stream",
     "text": [
      "Please enter your name: Ada\n",
      "ada is absent in class\n"
     ]
    }
   ],
   "source": [
    "#Project 2\n",
    "stud=[\"Ada\", \"Micheal\", \"Leo\",\"Mara\",\"Darnell\",\"Barnie\",\"Shantell\",\"Nifemi\",\"Mar\",\"Nendy\"]\n",
    "def check():\n",
    "    name = str.lower(input(\"Please enter your name: \"))\n",
    "    if name in stud:\n",
    "        print (name, \"is present in class\")\n",
    "    else:\n",
    "        print(name, \"is absent in class\")\n",
    "check()"
   ]
  },
  {
   "cell_type": "code",
   "execution_count": 36,
   "metadata": {},
   "outputs": [
    {
     "name": "stdout",
     "output_type": "stream",
     "text": [
      "Please put in the password: Sesame\n",
      "Try again\n",
      "Please put in the password: Anacona\n",
      "Try again\n",
      "Please put in the password: Bana\n",
      "Try again\n",
      "Please put in the password: Banana\n",
      "Welcome to Oscorp\n"
     ]
    }
   ],
   "source": [
    "#Project 4 \n",
    "Password =\"Banana\"\n",
    "def sesame():\n",
    "    mario = False\n",
    "    while mario == False:\n",
    "        lit = input(\"Please put in the password: \")\n",
    "        if lit == Password:\n",
    "            print(\"Welcome to Oscorp\")\n",
    "            mario == True\n",
    "            break\n",
    "        else:\n",
    "            print(\"Try again\")\n",
    "sesame()"
   ]
  },
  {
   "cell_type": "code",
   "execution_count": null,
   "metadata": {},
   "outputs": [],
   "source": []
  }
 ],
 "metadata": {
  "kernelspec": {
   "display_name": "Python 3 (ipykernel)",
   "language": "python",
   "name": "python3"
  },
  "language_info": {
   "codemirror_mode": {
    "name": "ipython",
    "version": 3
   },
   "file_extension": ".py",
   "mimetype": "text/x-python",
   "name": "python",
   "nbconvert_exporter": "python",
   "pygments_lexer": "ipython3",
   "version": "3.9.7"
  }
 },
 "nbformat": 4,
 "nbformat_minor": 4
}
