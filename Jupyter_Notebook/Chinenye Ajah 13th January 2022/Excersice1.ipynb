{
 "cells": [
  {
   "cell_type": "code",
   "execution_count": 2,
   "metadata": {},
   "outputs": [
    {
     "name": "stdout",
     "output_type": "stream",
     "text": [
      "100\n",
      "Data type of variable num is <class 'int'>\n",
      "34.45\n",
      "Data Type of variable fnum is <class 'float'>\n",
      "(3+4j)\n",
      "Data Type of variable cnum is <class 'complex'>\n"
     ]
    }
   ],
   "source": [
    "num = 100\n",
    "print(num)\n",
    "print(\"Data type of variable num is\",type(num))\n",
    "\n",
    "fnum = 34.45\n",
    "print(fnum)\n",
    "print(\"Data Type of variable fnum is\", type(fnum))\n",
    "\n",
    "cnum = 3 + 4j\n",
    "print(cnum)\n",
    "print(\"Data Type of variable cnum is\", type(cnum))"
   ]
  },
  {
   "cell_type": "code",
   "execution_count": 3,
   "metadata": {},
   "outputs": [
    {
     "name": "stdout",
     "output_type": "stream",
     "text": [
      "Hi my name is Matthew. I am String\n",
      "<class 'str'>\n",
      "Hi my name is Precious. Iam also a String\n",
      "<class 'str'>\n"
     ]
    }
   ],
   "source": [
    "str1 =\"Hi my name is Matthew. I am String\"\n",
    "str2 = 'Hi my name is Precious. Iam also a String'\n",
    "\n",
    "print(str1)\n",
    "print(type(str1))\n",
    "\n",
    "print(str2)\n",
    "print(type(str2))"
   ]
  },
  {
   "cell_type": "code",
   "execution_count": 6,
   "metadata": {},
   "outputs": [
    {
     "name": "stdout",
     "output_type": "stream",
     "text": [
      "(1, 2, 3, 4, 5)\n",
      "Nifemi\n",
      "Gina\n",
      "Marho\n",
      "45\n"
     ]
    }
   ],
   "source": [
    "#tuple of integers\n",
    "t1 = (1,2,3,4,5)\n",
    "\n",
    "#prints entire tuple\n",
    "print(t1)\n",
    "\n",
    "# tuple of strings\n",
    "t2 = (\"Nifemi\",\"Gina\", \"Marho\")\n",
    "\n",
    "# loop through tuple elements\n",
    "for s in t2:\n",
    "    print(s)\n",
    "    \n",
    "# tuple of mixed type elements\n",
    "t3 = (2,\"Ebube\",45, \"Jeffrey\")\n",
    "\n",
    "'''\n",
    "Print a specific element\n",
    "indexes start with zero\n",
    "'''\n",
    "print(t3[2])   \n"
   ]
  },
  {
   "cell_type": "code",
   "execution_count": 8,
   "metadata": {},
   "outputs": [
    {
     "name": "stdout",
     "output_type": "stream",
     "text": [
      "[1, 2, 3, 4, 5]\n",
      "Mouse\n",
      "Keyboard\n",
      "Monitor\n",
      "Element at index 3 is: Python Programming\n"
     ]
    }
   ],
   "source": [
    "# list of integers\n",
    "lis1 =[1,2,3,4,5]\n",
    "\n",
    "#prints entire list\n",
    "print(lis1)\n",
    "\n",
    "#list of strings\n",
    "lis2 = [\"Mouse\",\"Keyboard\",\"Monitor\"]\n",
    "\n",
    "#loop through list elements\n",
    "for x in lis2:\n",
    "    print(x)\n",
    "    \n",
    " #list of mixed type elements\n",
    "lis3 = [20,\"CSC101\", 15, \"Python Programming\"]\n",
    "\n",
    "'''Print a specific element in list indexes start with zero'''\n",
    "\n",
    "print(\"Element at index 3 is:\",lis3[3])\n"
   ]
  },
  {
   "cell_type": "code",
   "execution_count": 11,
   "metadata": {},
   "outputs": [
    {
     "name": "stdout",
     "output_type": "stream",
     "text": [
      "Maryam\n",
      "Shefiu\n",
      "25\n"
     ]
    }
   ],
   "source": [
    "# Dictionary example\n",
    "dict = {1:\"Maryam\",\"lastname\":\"Shefiu\",\"age\":25}\n",
    "\n",
    "#prints the value where key nvalue is 1\n",
    "print(dict[1])\n",
    "\n",
    "#prints the value where key value is  \"last name\"\n",
    "print(dict[\"lastname\"])\n",
    "\n",
    "#prints the value where key value is \"age\"\n",
    "print(dict[\"age\"])\n"
   ]
  },
  {
   "cell_type": "code",
   "execution_count": 14,
   "metadata": {},
   "outputs": [
    {
     "name": "stdout",
     "output_type": "stream",
     "text": [
      "Adaobi\n",
      "False\n",
      "Kamara\n",
      "False\n",
      "Joseph\n",
      "False\n",
      "Ugochi\n",
      "False\n",
      "{99, 'Joseph', 'Ugochi', 'Adaobi', 'Kamara'}\n"
     ]
    }
   ],
   "source": [
    "# Set Example\n",
    "myset = {\"Joseph\",\"Adaobi\",\"Kamara\",\"Ugochi\"}\n",
    "\n",
    "# loop through the set\n",
    "for a in myset:\n",
    "    print(a)\n",
    "    \n",
    "# checking whether 2 exists in myset\n",
    "    print(2 in myset)\n",
    "    \n",
    " #adding new element\n",
    "myset.add(99)\n",
    "print(myset)"
   ]
  },
  {
   "cell_type": "code",
   "execution_count": 16,
   "metadata": {},
   "outputs": [
    {
     "name": "stdout",
     "output_type": "stream",
     "text": [
      "Amount is 1020.0\n",
      "Simple Interest is 20.0\n"
     ]
    }
   ],
   "source": [
    "P = 1000\n",
    "R = 1\n",
    "T = 2\n",
    "\n",
    "#simple interest\n",
    "A = (P * (1 + ((R / 100.0) * T)))\n",
    "print(\"Amount is\", A)\n",
    "SI = A - P\n",
    "print(\"Simple Interest is\", SI)"
   ]
  },
  {
   "cell_type": "code",
   "execution_count": 21,
   "metadata": {},
   "outputs": [
    {
     "name": "stdout",
     "output_type": "stream",
     "text": [
      "The solution are (-3+0j) (-2+0j)\n"
     ]
    }
   ],
   "source": [
    "#Solve the quadratic equation ax*2 + bx + c = 0\n",
    "\n",
    "#import complex math module\n",
    "import cmath\n",
    "a = 1\n",
    "b = 5\n",
    "c = 6\n",
    "\n",
    "#calculate the discriminant\n",
    "d = (b**2) - ( 4*a*c)\n",
    "\n",
    "#find thwo solutions\n",
    "sol1 = (-b-cmath.sqrt(d))/(2*a)\n",
    "sol2 = (-b+cmath.sqrt(d))/(2*a)\n",
    "\n",
    "print('The solution are', sol1, sol2)"
   ]
  },
  {
   "cell_type": "code",
   "execution_count": 20,
   "metadata": {},
   "outputs": [
    {
     "name": "stdout",
     "output_type": "stream",
     "text": [
      "Enter first side: 5\n",
      "Enter second side: 4\n",
      "Enter third side: 3\n",
      "The area of the triangle is  6.00\n"
     ]
    }
   ],
   "source": [
    "# Python program to find the area of a triangle\n",
    "\n",
    "# Take inputs from the user\n",
    "a = float(input('Enter first side: '))\n",
    "b = float(input('Enter second side: '))\n",
    "c = float(input('Enter third side: ')) \n",
    "\n",
    "# calculate the semi-perimiter\n",
    "s = (a + b + c) / 2\n",
    "\n",
    "# calculate the area\n",
    "area = (s*(s-a)*(s-b)*(s-c)) ** 0.5\n",
    "print('The area of the triangle is  %0.2f' %area)"
   ]
  },
  {
   "cell_type": "code",
   "execution_count": null,
   "metadata": {},
   "outputs": [],
   "source": []
  },
  {
   "cell_type": "code",
   "execution_count": null,
   "metadata": {},
   "outputs": [],
   "source": []
  }
 ],
 "metadata": {
  "kernelspec": {
   "display_name": "Python 3 (ipykernel)",
   "language": "python",
   "name": "python3"
  },
  "language_info": {
   "codemirror_mode": {
    "name": "ipython",
    "version": 3
   },
   "file_extension": ".py",
   "mimetype": "text/x-python",
   "name": "python",
   "nbconvert_exporter": "python",
   "pygments_lexer": "ipython3",
   "version": "3.9.7"
  }
 },
 "nbformat": 4,
 "nbformat_minor": 4
}
