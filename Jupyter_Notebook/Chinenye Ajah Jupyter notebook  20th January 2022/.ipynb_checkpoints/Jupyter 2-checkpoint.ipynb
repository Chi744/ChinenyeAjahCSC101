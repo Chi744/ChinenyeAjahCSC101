{
 "cells": [
  {
   "cell_type": "markdown",
   "metadata": {},
   "source": [
    "# Control Structures"
   ]
  },
  {
   "cell_type": "markdown",
   "metadata": {},
   "source": [
    "<imj src= \"download.jpg\">\n",
    "    "
   ]
  },
  {
   "cell_type": "code",
   "execution_count": 3,
   "metadata": {},
   "outputs": [
    {
     "name": "stdout",
     "output_type": "stream",
     "text": [
      "X is equal to: [1, 2, 3, 4, 'Charles', 'Peter']\n"
     ]
    }
   ],
   "source": [
    "x = [1,2,3,4,\"Charles\",\"Peter\"]\n",
    "print(\"X is equal to:\",x)"
   ]
  },
  {
   "cell_type": "code",
   "execution_count": 7,
   "metadata": {},
   "outputs": [],
   "source": [
    "x = 5\n",
    "y = 7"
   ]
  },
  {
   "cell_type": "code",
   "execution_count": 8,
   "metadata": {},
   "outputs": [
    {
     "name": "stdout",
     "output_type": "stream",
     "text": [
      "X is not greater than y\n"
     ]
    }
   ],
   "source": [
    "if x>y:\n",
    "    print(\"X is greater than y\")\n",
    "else:\n",
    "    print(\"X is not greater than y\")"
   ]
  },
  {
   "cell_type": "markdown",
   "metadata": {},
   "source": [
    "<img src =\"download.jpg\">"
   ]
  },
  {
   "cell_type": "code",
   "execution_count": 13,
   "metadata": {},
   "outputs": [],
   "source": [
    "a = 5\n",
    "b = 7\n",
    "c= 10"
   ]
  },
  {
   "cell_type": "code",
   "execution_count": 15,
   "metadata": {},
   "outputs": [
    {
     "name": "stdout",
     "output_type": "stream",
     "text": [
      "A is smaller\n"
     ]
    }
   ],
   "source": [
    "if a>b+c:\n",
    "    print(\"A is greater\")\n",
    "else:\n",
    "    print(\"A is smaller\")"
   ]
  },
  {
   "cell_type": "code",
   "execution_count": 16,
   "metadata": {},
   "outputs": [
    {
     "name": "stdout",
     "output_type": "stream",
     "text": [
      "Welcome\n",
      "To\n",
      "Control Structures\n"
     ]
    }
   ],
   "source": [
    "flag = True\n",
    "if flag == True:\n",
    "    print(\"Welcome\")\n",
    "    print(\"To\")\n",
    "    print(\"Control Structures\")"
   ]
  },
  {
   "cell_type": "code",
   "execution_count": 18,
   "metadata": {},
   "outputs": [
    {
     "ename": "SyntaxError",
     "evalue": "invalid syntax (<ipython-input-18-ac339d0dcbb9>, line 2)",
     "output_type": "error",
     "traceback": [
      "\u001b[1;36m  File \u001b[1;32m\"<ipython-input-18-ac339d0dcbb9>\"\u001b[1;36m, line \u001b[1;32m2\u001b[0m\n\u001b[1;33m    if num < 200\u001b[0m\n\u001b[1;37m                ^\u001b[0m\n\u001b[1;31mSyntaxError\u001b[0m\u001b[1;31m:\u001b[0m invalid syntax\n"
     ]
    }
   ],
   "source": [
    "num = 100\n",
    "if num < 200\n",
    "    print(\"num is less than 200\")"
   ]
  },
  {
   "cell_type": "code",
   "execution_count": 19,
   "metadata": {},
   "outputs": [
    {
     "name": "stdout",
     "output_type": "stream",
     "text": [
      "Even Number\n"
     ]
    }
   ],
   "source": [
    "num = 22\n",
    "if num % 2 == 0:\n",
    "    print(\"Even Number\")\n",
    "else:\n",
    "    print(\"Odd number\")"
   ]
  },
  {
   "cell_type": "code",
   "execution_count": 20,
   "metadata": {},
   "outputs": [
    {
     "data": {
      "text/plain": [
       "0"
      ]
     },
     "execution_count": 20,
     "metadata": {},
     "output_type": "execute_result"
    }
   ],
   "source": [
    "    10 % 2"
   ]
  },
  {
   "cell_type": "code",
   "execution_count": 23,
   "metadata": {},
   "outputs": [
    {
     "data": {
      "text/plain": [
       "105"
      ]
     },
     "execution_count": 23,
     "metadata": {},
     "output_type": "execute_result"
    }
   ],
   "source": [
    "G = 15\n",
    "H = 7\n",
    "G*H "
   ]
  },
  {
   "cell_type": "code",
   "execution_count": 26,
   "metadata": {},
   "outputs": [
    {
     "name": "stdout",
     "output_type": "stream",
     "text": [
      "Odd number\n"
     ]
    }
   ],
   "source": [
    "if (G*H) % 2 == 0 :\n",
    "    print(\"Even number\")\n",
    "else:\n",
    "    print(\"Odd number\")"
   ]
  },
  {
   "cell_type": "code",
   "execution_count": 27,
   "metadata": {},
   "outputs": [],
   "source": [
    "x = 2\n",
    "y = 16\n",
    "z = 25"
   ]
  },
  {
   "cell_type": "code",
   "execution_count": 28,
   "metadata": {},
   "outputs": [
    {
     "name": "stdout",
     "output_type": "stream",
     "text": [
      "Z is greater\n"
     ]
    }
   ],
   "source": [
    "if x>y+z:\n",
    "    print(\"x is greater\")\n",
    "elif y>x+z:\n",
    "    print(\"Y is greater\")\n",
    "elif z>x+y:\n",
    "    print(\"Z is greater\")\n",
    "\n",
    "else:\n",
    "    print(\"None is greater\")"
   ]
  },
  {
   "cell_type": "code",
   "execution_count": 33,
   "metadata": {},
   "outputs": [
    {
     "name": "stdout",
     "output_type": "stream",
     "text": [
      "Four  half digit number\n"
     ]
    }
   ],
   "source": [
    "num = 1000\n",
    "if 10 < num < 99:\n",
    "    print(\"Two digit number\")\n",
    "elif 100 <= num <= 900:\n",
    "    print(\"Three digit number\")\n",
    "elif 1000 <= num < 2000:\n",
    "    print(\"Four  half digit number\")\n",
    "elif 4000 <= num <= 8000:\n",
    "    print(\"Four bottom half digit number\")\n",
    "else:\n",
    "    print(\"1000 does not fit into the criteria\")\n",
    "    "
   ]
  },
  {
   "cell_type": "code",
   "execution_count": 35,
   "metadata": {},
   "outputs": [
    {
     "name": "stdout",
     "output_type": "stream",
     "text": [
      "Two digit negative number\n"
     ]
    }
   ],
   "source": [
    "num = -99\n",
    "if num > 0:\n",
    "    print(\"Positive number\")\n",
    "elif num >= -99:\n",
    "    print(\"Two digit negative number\")\n",
    "else:\n",
    "        print(\"Negative number\")"
   ]
  },
  {
   "cell_type": "code",
   "execution_count": 37,
   "metadata": {},
   "outputs": [
    {
     "name": "stdout",
     "output_type": "stream",
     "text": [
      " negative number\n",
      "two digit Negative number\n"
     ]
    }
   ],
   "source": [
    "num = -99\n",
    "if num > 0:\n",
    "    print(\"Positive number\")\n",
    "else: \n",
    "    print(\" negative number\")\n",
    "if num >= -99:\n",
    "        print(\"two digit Negative number\")"
   ]
  },
  {
   "cell_type": "code",
   "execution_count": 38,
   "metadata": {},
   "outputs": [
    {
     "name": "stdout",
     "output_type": "stream",
     "text": [
      "What is the temperature in Celcius?65\n",
      "It is hot outside\n",
      "Done\n"
     ]
    }
   ],
   "source": [
    "temperature = int(input(\"What is the temperature in Celcius?\"))\n",
    "if temperature > 40:\n",
    "    print(\"It is hot outside\")\n",
    "print(\"Done\") "
   ]
  },
  {
   "cell_type": "code",
   "execution_count": 41,
   "metadata": {},
   "outputs": [
    {
     "name": "stdout",
     "output_type": "stream",
     "text": [
      "What is your name?Ben\n",
      "Your name is ok.\n"
     ]
    }
   ],
   "source": [
    "userName = input(\"What is your name?\")\n",
    "if userName == \"Joseph\":\n",
    "    print(\"you have a nice name\")\n",
    "else:\n",
    "    print(\"Your name is ok.\")"
   ]
  },
  {
   "cell_type": "code",
   "execution_count": 40,
   "metadata": {},
   "outputs": [
    {
     "name": "stdout",
     "output_type": "stream",
     "text": [
      "Quadratic Function:(a * x ^2)+ b*x + c\n",
      "a: 5\n",
      "b: 8\n",
      "c: 2\n",
      "There are 2 roots: -0.310102 and -0.310102\n"
     ]
    }
   ],
   "source": [
    "from math import sqrt\n",
    "print(\"Quadratic Function:(a * x ^2)+ b*x + c\")\n",
    "a = float(input(\"a: \"))\n",
    "b = float(input(\"b: \"))\n",
    "c = float(input(\"c: \"))\n",
    "\n",
    "r = b**2 - 4*a*c\n",
    "\n",
    "if r > 0:\n",
    "    num_roots = 2\n",
    "    x1 = (((-b) + sqrt(r))/(2*a))\n",
    "    x2 = (((-b) + sqrt(r))/(2*a))\n",
    "    print(\"There are 2 roots: %f and %f\" % (x1,x2))\n",
    "elif r == 0:\n",
    "    num_roots = 1\n",
    "    x = (-b)/2*a\n",
    "    print(\"There is one root:\",x)\n",
    "else:\n",
    "    num_roots = 0\n",
    "    print(\"No roots, dicriminant , 0.\")\n",
    "    exit()\n",
    "        "
   ]
  },
  {
   "cell_type": "code",
   "execution_count": 42,
   "metadata": {},
   "outputs": [
    {
     "name": "stdout",
     "output_type": "stream",
     "text": [
      "a and b are equal\n"
     ]
    }
   ],
   "source": [
    "a = 33\n",
    "b = 33\n",
    "if b > a:\n",
    "    print(\"b is greater than a\")\n",
    "elif a==b:\n",
    "    print(\"a and b are equal\")"
   ]
  },
  {
   "cell_type": "code",
   "execution_count": null,
   "metadata": {},
   "outputs": [],
   "source": [
    "temperature = int(input(\"What is the temperature in celcius?\"))\n",
    "if temperature "
   ]
  }
 ],
 "metadata": {
  "kernelspec": {
   "display_name": "Python 3",
   "language": "python",
   "name": "python3"
  },
  "language_info": {
   "codemirror_mode": {
    "name": "ipython",
    "version": 3
   },
   "file_extension": ".py",
   "mimetype": "text/x-python",
   "name": "python",
   "nbconvert_exporter": "python",
   "pygments_lexer": "ipython3",
   "version": "3.8.5"
  }
 },
 "nbformat": 4,
 "nbformat_minor": 4
}
