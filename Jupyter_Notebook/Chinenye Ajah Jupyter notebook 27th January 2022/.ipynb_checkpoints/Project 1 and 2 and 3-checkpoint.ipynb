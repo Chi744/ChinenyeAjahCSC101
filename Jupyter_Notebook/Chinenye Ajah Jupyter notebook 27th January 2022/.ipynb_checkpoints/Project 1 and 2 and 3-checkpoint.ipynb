{
 "cells": [
  {
   "cell_type": "code",
   "execution_count": 11,
   "metadata": {},
   "outputs": [
    {
     "name": "stdout",
     "output_type": "stream",
     "text": [
      "Please enter your name? Micheal\n",
      "Welcome Employee\n"
     ]
    }
   ],
   "source": [
    "\n",
    "employees=[\"Ada\", \"Micheal\", \"Leo\",\"Mara\",\"Darnell\",\"Barnie\",\"Shantell\",\"Nifemi\",\"Mar\",\"Nendy\"]\n",
    "name = input(\"Please enter your name? \")\n",
    "if name in employees:\n",
    "    print (\"Welcome Employee\")\n",
    "else:\n",
    "    print(\"You are not an employee of this organisation\")"
   ]
  },
  {
   "cell_type": "code",
   "execution_count": 17,
   "metadata": {},
   "outputs": [
    {
     "name": "stdout",
     "output_type": "stream",
     "text": [
      "Where are you delivering too? Epe\n",
      "Please what is the size of your package? 15\n",
      "Your bill is N5000\n"
     ]
    }
   ],
   "source": [
    "location = input(\"Where are you delivering too? \")\n",
    "size = int(input(\"Please what is the size of your package? \"))\n",
    "if location == \"PAU\" and size >= 10:\n",
    "    print(\"Your bill is N2000\")\n",
    "elif location == \"PAU\" and size < 10:\n",
    "    print(\"Your bill is N1500\")\n",
    "elif location == \"Epe\" and size >= 10:\n",
    "    print(\"Your bill is N5000\")\n",
    "elif location == \"Epe\" and size < 10:\n",
    "    print(\"Your bill is N4000\")\n",
    "else:\n",
    "    print(\"We do not deliver to your destination\")"
   ]
  },
  {
   "cell_type": "code",
   "execution_count": 41,
   "metadata": {},
   "outputs": [
    {
     "name": "stdout",
     "output_type": "stream",
     "text": [
      "Welcome to Computer Science Admissions board\n",
      "Do you have  five credit passes in WASSCE?. YES/NO YES\n",
      "Please what is your JAMB score? 239\n",
      "Go ahead for the interview\n",
      "Did you pass the interview?. TRUE/FALSE TRUE\n",
      "Welcome to the Computer Science Department\n"
     ]
    }
   ],
   "source": [
    "print(\"Welcome to Computer Science Admissions board\")\n",
    "grade = input(\"Do you have  five credit passes in WASSCE?. YES/NO \")\n",
    "score = int(input(\"Please what is your JAMB score? \"))\n",
    "if grade == \"YES\" and score >= 230:\n",
    "    print(\"Go ahead for the interview\")\n",
    "else:\n",
    "    print(\"We regret to inform you that you have not been given admission\")\n",
    "if grade == \"YES\" and score >= 230:\n",
    "    interviewstatus = input(\"Did you pass the interview?. TRUE/FALSE \")\n",
    "if interviewstatus == \"TRUE\":\n",
    "    print(\"Welcome to the Computer Science Department\")\n",
    "else:\n",
    "    print(\"We regret to inform you that you have not been given admission\")\n"
   ]
  },
  {
   "cell_type": "code",
   "execution_count": null,
   "metadata": {},
   "outputs": [],
   "source": [
    "guest = [\"Ada\", \"Micheal\", \"Leo \" ]\n",
    "name = input(\"What is your name?\")\n",
    "if name in guest:\n",
    "    print (\"Welcome to Lekki Penthouse \")\n",
    "else:\n",
    "    print(\"Please leave the premises\")\n"
   ]
  },
  {
   "cell_type": "code",
   "execution_count": null,
   "metadata": {},
   "outputs": [],
   "source": []
  }
 ],
 "metadata": {
  "kernelspec": {
   "display_name": "Python 3",
   "language": "python",
   "name": "python3"
  },
  "language_info": {
   "codemirror_mode": {
    "name": "ipython",
    "version": 3
   },
   "file_extension": ".py",
   "mimetype": "text/x-python",
   "name": "python",
   "nbconvert_exporter": "python",
   "pygments_lexer": "ipython3",
   "version": "3.8.5"
  }
 },
 "nbformat": 4,
 "nbformat_minor": 4
}
